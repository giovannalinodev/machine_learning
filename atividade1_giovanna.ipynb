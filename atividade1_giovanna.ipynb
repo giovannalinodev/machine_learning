{
  "nbformat": 4,
  "nbformat_minor": 0,
  "metadata": {
    "colab": {
      "provenance": [],
      "include_colab_link": true
    },
    "kernelspec": {
      "name": "python3",
      "display_name": "Python 3"
    },
    "language_info": {
      "name": "python"
    }
  },
  "cells": [
    {
      "cell_type": "markdown",
      "metadata": {
        "id": "view-in-github",
        "colab_type": "text"
      },
      "source": [
        "<a href=\"https://colab.research.google.com/github/giovannalinodev/machine_learning/blob/main/atividade1_giovanna.ipynb\" target=\"_parent\"><img src=\"https://colab.research.google.com/assets/colab-badge.svg\" alt=\"Open In Colab\"/></a>"
      ]
    },
    {
      "cell_type": "markdown",
      "source": [
        "## Atividade Prática: Análise Estatística dos Dados do Titanic com Pandas e Numpy\n",
        "\n",
        "### *Objetivo:* Aplicar conceitos básicos de estatística para realizar uma análise exploratória dos dados do Titanic utilizando Python, pandas e numpy.\n"
      ],
      "metadata": {
        "id": "yN0-gcKG5zHF"
      }
    },
    {
      "cell_type": "markdown",
      "source": [
        "1- Importação e Visualização Inicial\n"
      ],
      "metadata": {
        "id": "PkNMRE8T57LD"
      }
    },
    {
      "cell_type": "markdown",
      "source": [
        "1.1 - Importar as Bibliotecas Necessárias:"
      ],
      "metadata": {
        "id": "sXsIKXR86yv4"
      }
    },
    {
      "cell_type": "code",
      "source": [
        "import pandas as pd\n",
        "import numpy as np\n",
        "import matplotlib.pyplot as plt\n",
        "import seaborn as sns\n",
        "%matplotlib inline"
      ],
      "metadata": {
        "id": "7eQ4ZAeR6J4s"
      },
      "execution_count": 1,
      "outputs": []
    },
    {
      "cell_type": "markdown",
      "source": [
        "1.2. Carregar o Dataset:"
      ],
      "metadata": {
        "id": "oOAgDUQC6omJ"
      }
    },
    {
      "cell_type": "code",
      "source": [
        "url = \"https://raw.githubusercontent.com/datasciencedojo/datasets/master/titanic.csv\"\n",
        "df = pd.read_csv(url)"
      ],
      "metadata": {
        "id": "cgwfJHnW6Q5U"
      },
      "execution_count": 2,
      "outputs": []
    },
    {
      "cell_type": "markdown",
      "source": [
        "1.3. Visualizar as Primeiras Linhas do Dataset:"
      ],
      "metadata": {
        "id": "I9zcWa3O6vV9"
      }
    },
    {
      "cell_type": "code",
      "source": [
        "print(df.head())"
      ],
      "metadata": {
        "id": "IfL5wuPC6S9G",
        "colab": {
          "base_uri": "https://localhost:8080/"
        },
        "outputId": "76f5f063-486b-4f9d-ccae-8ed98a6cf48c"
      },
      "execution_count": 3,
      "outputs": [
        {
          "output_type": "stream",
          "name": "stdout",
          "text": [
            "   PassengerId  Survived  Pclass  \\\n",
            "0            1         0       3   \n",
            "1            2         1       1   \n",
            "2            3         1       3   \n",
            "3            4         1       1   \n",
            "4            5         0       3   \n",
            "\n",
            "                                                Name     Sex   Age  SibSp  \\\n",
            "0                            Braund, Mr. Owen Harris    male  22.0      1   \n",
            "1  Cumings, Mrs. John Bradley (Florence Briggs Th...  female  38.0      1   \n",
            "2                             Heikkinen, Miss. Laina  female  26.0      0   \n",
            "3       Futrelle, Mrs. Jacques Heath (Lily May Peel)  female  35.0      1   \n",
            "4                           Allen, Mr. William Henry    male  35.0      0   \n",
            "\n",
            "   Parch            Ticket     Fare Cabin Embarked  \n",
            "0      0         A/5 21171   7.2500   NaN        S  \n",
            "1      0          PC 17599  71.2833   C85        C  \n",
            "2      0  STON/O2. 3101282   7.9250   NaN        S  \n",
            "3      0            113803  53.1000  C123        S  \n",
            "4      0            373450   8.0500   NaN        S  \n"
          ]
        }
      ]
    },
    {
      "cell_type": "markdown",
      "source": [
        "1.4. Obter Informações Gerais sobre o Dataset:"
      ],
      "metadata": {
        "id": "yD9y2A4i6_xM"
      }
    },
    {
      "cell_type": "code",
      "source": [
        "print(df.info())\n",
        "print(df.describe())"
      ],
      "metadata": {
        "id": "1LGUG4bd6VZY",
        "colab": {
          "base_uri": "https://localhost:8080/"
        },
        "outputId": "8d0bff5a-193a-4bc2-a35e-17a0013e4243"
      },
      "execution_count": 4,
      "outputs": [
        {
          "output_type": "stream",
          "name": "stdout",
          "text": [
            "<class 'pandas.core.frame.DataFrame'>\n",
            "RangeIndex: 891 entries, 0 to 890\n",
            "Data columns (total 12 columns):\n",
            " #   Column       Non-Null Count  Dtype  \n",
            "---  ------       --------------  -----  \n",
            " 0   PassengerId  891 non-null    int64  \n",
            " 1   Survived     891 non-null    int64  \n",
            " 2   Pclass       891 non-null    int64  \n",
            " 3   Name         891 non-null    object \n",
            " 4   Sex          891 non-null    object \n",
            " 5   Age          714 non-null    float64\n",
            " 6   SibSp        891 non-null    int64  \n",
            " 7   Parch        891 non-null    int64  \n",
            " 8   Ticket       891 non-null    object \n",
            " 9   Fare         891 non-null    float64\n",
            " 10  Cabin        204 non-null    object \n",
            " 11  Embarked     889 non-null    object \n",
            "dtypes: float64(2), int64(5), object(5)\n",
            "memory usage: 83.7+ KB\n",
            "None\n",
            "       PassengerId    Survived      Pclass         Age       SibSp  \\\n",
            "count   891.000000  891.000000  891.000000  714.000000  891.000000   \n",
            "mean    446.000000    0.383838    2.308642   29.699118    0.523008   \n",
            "std     257.353842    0.486592    0.836071   14.526497    1.102743   \n",
            "min       1.000000    0.000000    1.000000    0.420000    0.000000   \n",
            "25%     223.500000    0.000000    2.000000   20.125000    0.000000   \n",
            "50%     446.000000    0.000000    3.000000   28.000000    0.000000   \n",
            "75%     668.500000    1.000000    3.000000   38.000000    1.000000   \n",
            "max     891.000000    1.000000    3.000000   80.000000    8.000000   \n",
            "\n",
            "            Parch        Fare  \n",
            "count  891.000000  891.000000  \n",
            "mean     0.381594   32.204208  \n",
            "std      0.806057   49.693429  \n",
            "min      0.000000    0.000000  \n",
            "25%      0.000000    7.910400  \n",
            "50%      0.000000   14.454200  \n",
            "75%      0.000000   31.000000  \n",
            "max      6.000000  512.329200  \n"
          ]
        }
      ]
    },
    {
      "cell_type": "markdown",
      "source": [
        "**Perguntas:**\n",
        "\n",
        "\n",
        "\n",
        "\n",
        "\n",
        "1.   Quantas linhas e colunas o dataset possui?\n",
        "\n",
        "     **O dataset possui 891 linhas e 12 colunas.**\n",
        "\n",
        "2.   Quais são os tipos de dados de cada coluna?\n",
        "\n",
        "      Lista dos tipos de dados das 12 colunas:\n",
        "        * PassengerId: int64 (inteiro)\n",
        "        * Survived: int64 (inteiro)\n",
        "        * Pclass: int64 (inteiro)\n",
        "        * Name: object (texto/string)\n",
        "        * Sex: object (texto/string)\n",
        "        * Age: float64 (flutuante)\n",
        "        * SibSp: int64 (inteiro)\n",
        "        * Parch: int64 (inteiro)\n",
        "        * Ticket: object (texto/string)\n",
        "        * Fare: float64 (flutuante)\n",
        "        * Cabin: object (texto/string)\n",
        "        * Embarked: object (texto/string)\n",
        "\n",
        "\n",
        "3.   Existem valores ausentes? Quais colunas têm valores ausentes?\n",
        "\n",
        "  *  Sim, há valores ausentes no dataset nas colunas a seguir: Embarked: 2 valores ausentes (889 valores não nulos de 891), Cabin: 687 valores ausentes (204 valores não nulos de 891) e Age: 177 valores ausentes (714 valores não nulos de 891).\n",
        "\n",
        "\n",
        "\n",
        "\n",
        "\n"
      ],
      "metadata": {
        "id": "iuZGEX0A6YRO"
      }
    },
    {
      "cell_type": "markdown",
      "source": [
        "2. Limpeza de Dados"
      ],
      "metadata": {
        "id": "R-UyF19t7GJ9"
      }
    },
    {
      "cell_type": "markdown",
      "source": [
        "2.1. Identificar Valores Ausentes:"
      ],
      "metadata": {
        "id": "Dby0nw_C7Iom"
      }
    },
    {
      "cell_type": "code",
      "source": [
        "print(df.isnull().sum())"
      ],
      "metadata": {
        "id": "th0IEBWt7K1W",
        "colab": {
          "base_uri": "https://localhost:8080/"
        },
        "outputId": "010af62c-fada-436e-d53a-9edc9e150b38"
      },
      "execution_count": 5,
      "outputs": [
        {
          "output_type": "stream",
          "name": "stdout",
          "text": [
            "PassengerId      0\n",
            "Survived         0\n",
            "Pclass           0\n",
            "Name             0\n",
            "Sex              0\n",
            "Age            177\n",
            "SibSp            0\n",
            "Parch            0\n",
            "Ticket           0\n",
            "Fare             0\n",
            "Cabin          687\n",
            "Embarked         2\n",
            "dtype: int64\n"
          ]
        }
      ]
    },
    {
      "cell_type": "markdown",
      "source": [
        "2.2. Tratar Valores Ausentes na Coluna 'Age':"
      ],
      "metadata": {
        "id": "4wsPjHOr7QDX"
      }
    },
    {
      "cell_type": "markdown",
      "source": [
        "*texto em itálico*\n",
        "Opção 1: Preencher com a média.\n"
      ],
      "metadata": {
        "id": "0FRQExi27rUh"
      }
    },
    {
      "cell_type": "code",
      "source": [
        "df['Age'].fillna(df['Age'].mean(), inplace=True)"
      ],
      "metadata": {
        "id": "a2bXSRCi7Pkd",
        "colab": {
          "base_uri": "https://localhost:8080/"
        },
        "outputId": "01012881-c7cd-4324-f8ce-81d52b21a2ea"
      },
      "execution_count": 6,
      "outputs": [
        {
          "output_type": "stream",
          "name": "stderr",
          "text": [
            "<ipython-input-6-7ee7fe972bc2>:1: FutureWarning: A value is trying to be set on a copy of a DataFrame or Series through chained assignment using an inplace method.\n",
            "The behavior will change in pandas 3.0. This inplace method will never work because the intermediate object on which we are setting values always behaves as a copy.\n",
            "\n",
            "For example, when doing 'df[col].method(value, inplace=True)', try using 'df.method({col: value}, inplace=True)' or df[col] = df[col].method(value) instead, to perform the operation inplace on the original object.\n",
            "\n",
            "\n",
            "  df['Age'].fillna(df['Age'].mean(), inplace=True)\n"
          ]
        }
      ]
    },
    {
      "cell_type": "markdown",
      "source": [
        "*Opção* 2: Preencher com a mediana.\n"
      ],
      "metadata": {
        "id": "Wtl_14TO7wxq"
      }
    },
    {
      "cell_type": "code",
      "source": [
        "df['Age'].fillna(df['Age'].median(), inplace=True)"
      ],
      "metadata": {
        "id": "vjVjyy3k7z55",
        "colab": {
          "base_uri": "https://localhost:8080/"
        },
        "outputId": "e3663e18-27b1-471b-8aa7-71514f72bc85"
      },
      "execution_count": 7,
      "outputs": [
        {
          "output_type": "stream",
          "name": "stderr",
          "text": [
            "<ipython-input-7-63d4fb902a4f>:1: FutureWarning: A value is trying to be set on a copy of a DataFrame or Series through chained assignment using an inplace method.\n",
            "The behavior will change in pandas 3.0. This inplace method will never work because the intermediate object on which we are setting values always behaves as a copy.\n",
            "\n",
            "For example, when doing 'df[col].method(value, inplace=True)', try using 'df.method({col: value}, inplace=True)' or df[col] = df[col].method(value) instead, to perform the operation inplace on the original object.\n",
            "\n",
            "\n",
            "  df['Age'].fillna(df['Age'].median(), inplace=True)\n"
          ]
        }
      ]
    },
    {
      "cell_type": "markdown",
      "source": [
        "2.3. Tratar Valores Ausentes na Coluna 'Embarked':"
      ],
      "metadata": {
        "id": "sw3gsnsz76FT"
      }
    },
    {
      "cell_type": "code",
      "source": [
        "df['Embarked'].fillna(df['Embarked'].mode()[0], inplace=True)"
      ],
      "metadata": {
        "id": "PAmc5dd975l6",
        "colab": {
          "base_uri": "https://localhost:8080/"
        },
        "outputId": "ae156ed5-1068-460f-c3c5-3bf65d2041b3"
      },
      "execution_count": 8,
      "outputs": [
        {
          "output_type": "stream",
          "name": "stderr",
          "text": [
            "<ipython-input-8-808ebb813aa0>:1: FutureWarning: A value is trying to be set on a copy of a DataFrame or Series through chained assignment using an inplace method.\n",
            "The behavior will change in pandas 3.0. This inplace method will never work because the intermediate object on which we are setting values always behaves as a copy.\n",
            "\n",
            "For example, when doing 'df[col].method(value, inplace=True)', try using 'df.method({col: value}, inplace=True)' or df[col] = df[col].method(value) instead, to perform the operation inplace on the original object.\n",
            "\n",
            "\n",
            "  df['Embarked'].fillna(df['Embarked'].mode()[0], inplace=True)\n"
          ]
        }
      ]
    },
    {
      "cell_type": "markdown",
      "source": [
        "2.4. Remover a Coluna 'Cabin' por Possuir Muitos Valores Ausentes:"
      ],
      "metadata": {
        "id": "Zvr-yE9c79xi"
      }
    },
    {
      "cell_type": "code",
      "source": [
        "df.drop('Cabin', axis=1, inplace=True)"
      ],
      "metadata": {
        "id": "WqLe7wG87_xy"
      },
      "execution_count": 9,
      "outputs": []
    },
    {
      "cell_type": "markdown",
      "source": [
        "2.5. Confirmar a Limpeza de Dados:"
      ],
      "metadata": {
        "id": "1fOyO_Ok8DPB"
      }
    },
    {
      "cell_type": "code",
      "source": [
        "print(df.isnull().sum())"
      ],
      "metadata": {
        "id": "7Vrgtbce8D-M",
        "colab": {
          "base_uri": "https://localhost:8080/"
        },
        "outputId": "84f47418-dc64-4c6e-ae84-6065c23ab1f3"
      },
      "execution_count": 10,
      "outputs": [
        {
          "output_type": "stream",
          "name": "stdout",
          "text": [
            "PassengerId    0\n",
            "Survived       0\n",
            "Pclass         0\n",
            "Name           0\n",
            "Sex            0\n",
            "Age            0\n",
            "SibSp          0\n",
            "Parch          0\n",
            "Ticket         0\n",
            "Fare           0\n",
            "Embarked       0\n",
            "dtype: int64\n"
          ]
        }
      ]
    },
    {
      "cell_type": "markdown",
      "source": [
        "**Perguntas:**\n",
        "\n",
        "\n",
        "\n",
        "1.   Quantos valores ausentes foram preenchidos ou removidos em cada coluna?\n",
        "\n",
        "    * Coluna 'Embarked'\n",
        "\n",
        "      * Antes: 2 valores ausentes.\n",
        "      * Após o preenchimento com a moda (valor mais frequente), os valores ausentes na coluna Embarked foram preenchidos. 2 valores ausentes foram preenchidos.\n",
        "\n",
        "    * Coluna 'Age'\n",
        "      * Antes: 177 valores ausentes.\n",
        "      * Após o preenchimento com a média (ou mediana), todos os valores ausentes na coluna Age foram preenchidos. 177 valores ausentes foram preenchidos.\n",
        "\n",
        "    * Coluna 'Cabin'\n",
        "      * Antes: 687 valores ausentes.\n",
        "      * A coluna Cabin foi removida, pois possui uma quantidade muito alta de valores ausentes (687 de 891). Portanto, 687 valores ausentes foram removidos ao excluir a coluna inteira.\n",
        "\n",
        "2.   Por que decidimos remover a coluna 'Cabin'?\n",
        "    * Com a quantidade elevada de valres ausentes na coluna Cabin (687 valores ausentes) poderia dificultar a análise e a qualidade do modelo preditivo com a falta de informações úteis dessa coluna.\n",
        "\n",
        "\n",
        "\n",
        "\n",
        "\n"
      ],
      "metadata": {
        "id": "woaFVp8C8Hl1"
      }
    },
    {
      "cell_type": "markdown",
      "source": [
        "3. Análise de Medidas Descritivas"
      ],
      "metadata": {
        "id": "Pem4FFyY8P9d"
      }
    },
    {
      "cell_type": "markdown",
      "source": [
        "3.1. Calcular Média, Mediana e Desvio Padrão da Idade:"
      ],
      "metadata": {
        "id": "qAjmoM0Z8RxH"
      }
    },
    {
      "cell_type": "code",
      "source": [
        "mean_age = np.mean(df['Age'])\n",
        "median_age = np.median(df['Age'])\n",
        "std_age = np.std(df['Age'])\n",
        "print(f\"Média da idade: {mean_age:.2f}\")\n",
        "print(f\"Mediana da idade: {median_age}\")\n",
        "print(f\"Desvio padrão da idade: {std_age:.2f}\")"
      ],
      "metadata": {
        "id": "LYW43o5z8VFh"
      },
      "execution_count": null,
      "outputs": []
    },
    {
      "cell_type": "markdown",
      "source": [
        "3.2. Calcular a Média da Tarifa ('Fare') por Classe:"
      ],
      "metadata": {
        "id": "KhF7whNj8YG9"
      }
    },
    {
      "cell_type": "code",
      "source": [
        "fare_mean = df.groupby('Pclass')['Fare'].mean()\n",
        "print(fare_mean)"
      ],
      "metadata": {
        "id": "VDC4fyw78aYu"
      },
      "execution_count": null,
      "outputs": []
    },
    {
      "cell_type": "markdown",
      "source": [
        "Perguntas:\n",
        "\n",
        "\n",
        "\n",
        "*   Como a média e a mediana da idade se comparam?\n",
        "*   Existe uma grande variação na tarifa paga pelos passageiros? Por quê?\n",
        "\n"
      ],
      "metadata": {
        "id": "KyCOoYlI8b96"
      }
    },
    {
      "cell_type": "markdown",
      "source": [
        "\n",
        "\n",
        "4. Agrupamento e Análise de Sobrevivência"
      ],
      "metadata": {
        "id": "I9LM6cF68rb-"
      }
    },
    {
      "cell_type": "markdown",
      "source": [
        "4.1. Calcular a Taxa de Sobrevivência Geral:"
      ],
      "metadata": {
        "id": "jt-KGQbL8uO6"
      }
    },
    {
      "cell_type": "code",
      "source": [
        "survival_rate = df['Survived'].mean()\n",
        "print(f\"Taxa de sobrevivência geral: {survival_rate:.2f}\")\n"
      ],
      "metadata": {
        "id": "DFVadFjJ8xO7",
        "colab": {
          "base_uri": "https://localhost:8080/"
        },
        "outputId": "cf303971-bb53-42a1-bbc1-11b6c592bd74"
      },
      "execution_count": 11,
      "outputs": [
        {
          "output_type": "stream",
          "name": "stdout",
          "text": [
            "Taxa de sobrevivência geral: 0.38\n"
          ]
        }
      ]
    },
    {
      "cell_type": "markdown",
      "source": [
        "4.2. Taxa de Sobrevivência por Sexo:"
      ],
      "metadata": {
        "id": "Aj9sGSe88zHj"
      }
    },
    {
      "cell_type": "code",
      "source": [
        "survival_sex = df.groupby('Sex')['Survived'].mean()\n",
        "print(survival_sex)"
      ],
      "metadata": {
        "id": "T_4g072z81sd",
        "colab": {
          "base_uri": "https://localhost:8080/"
        },
        "outputId": "360f4b0c-bfcf-47b6-abee-65f7d7f58f05"
      },
      "execution_count": 12,
      "outputs": [
        {
          "output_type": "stream",
          "name": "stdout",
          "text": [
            "Sex\n",
            "female    0.742038\n",
            "male      0.188908\n",
            "Name: Survived, dtype: float64\n"
          ]
        }
      ]
    },
    {
      "cell_type": "markdown",
      "source": [
        "*4.3*. Taxa de Sobrevivência por Classe:"
      ],
      "metadata": {
        "id": "eocNYTWQ84Im"
      }
    },
    {
      "cell_type": "code",
      "source": [
        "survival_class = df.groupby('Pclass')['Survived'].mean()\n",
        "print(survival_class)"
      ],
      "metadata": {
        "id": "fFUZlPpF849l",
        "colab": {
          "base_uri": "https://localhost:8080/"
        },
        "outputId": "fd4f6869-3ac1-4214-81a8-2d99ed139f5a"
      },
      "execution_count": 13,
      "outputs": [
        {
          "output_type": "stream",
          "name": "stdout",
          "text": [
            "Pclass\n",
            "1    0.629630\n",
            "2    0.472826\n",
            "3    0.242363\n",
            "Name: Survived, dtype: float64\n"
          ]
        }
      ]
    },
    {
      "cell_type": "markdown",
      "source": [
        "4.4. Analisar a Relação entre Idade e Sobrevivência:"
      ],
      "metadata": {
        "id": "rEcLnNAV88fC"
      }
    },
    {
      "cell_type": "markdown",
      "source": [
        "Criar uma Coluna de Faixa Etária:"
      ],
      "metadata": {
        "id": "alB156jI8_Eq"
      }
    },
    {
      "cell_type": "code",
      "source": [
        "df['AgeGroup'] = df['Age'].apply(lambda x: 'Child' if x < 18 else 'Adult')\n",
        "survival_agegroup = df.groupby('AgeGroup')['Survived'].mean()\n",
        "print(survival_agegroup)"
      ],
      "metadata": {
        "id": "99xmva7v9B7y",
        "colab": {
          "base_uri": "https://localhost:8080/"
        },
        "outputId": "65aca5ce-6b01-474c-8d68-63462453e133"
      },
      "execution_count": 15,
      "outputs": [
        {
          "output_type": "stream",
          "name": "stdout",
          "text": [
            "AgeGroup\n",
            "Adult    0.361183\n",
            "Child    0.539823\n",
            "Name: Survived, dtype: float64\n"
          ]
        }
      ]
    },
    {
      "cell_type": "markdown",
      "source": [
        "**Perguntas:**\n",
        "\n",
        "\n",
        "\n",
        "*   Qual grupo de sexo teve maior taxa de sobrevivência?\n",
        "\n",
        "       * O grupo do sexo feminino teve uma taxa maior de sobrevivência em comparação ao masculino: Mulheres (female): Taxa de sobrevivência de 74.2% (0.742)\n",
        "Homens (male): Taxa de sobrevivência de 18.9% (0.189).\n",
        "\n",
        "\n",
        "*   Como a classe do bilhete influencia a taxa de sobrevivência?\n",
        "      * A classe do bilhete (denotada pela coluna Pclass) denota que os passageiros da 1ª classe tiveram uma taxa de sobrevivência significativamente maior do que os da 3ª classe. Isso sugere que a classe do bilhete estava associada à prioridade no resgate e/ou melhores condições para sobreviver. A taxa de sobrevivência é maior nas classes superiores (1ª classe) e menor na classe inferior (3ª classe). A análise das taxas de sobrevivência por classe mostra que:\n",
        "\n",
        "          * 1ª Classe (Pclass = 1): Taxa de sobrevivência de 62.96% (0.6296)\n",
        "          * 2ª Classe (Pclass = 2): Taxa de sobrevivência de 47.28% (0.4728)\n",
        "          * 3ª Classe (Pclass = 3): Taxa de sobrevivência de 24.24% (0.2424)\n",
        "\n",
        "*   Existe uma diferença significativa na sobrevivência entre crianças e adultos?\n",
        "\n",
        "    * Sim, há uma diferença significativa na taxa de sobrevivência entre crianças e adultos. As crianças tiveram uma taxa de sobrevivência significativamente maior do que os adultos. A criação da coluna de faixa etária (AgeGroup) divide os passageiros em \"Child\" (menores de 18 anos) e \"Adult\" (maiores de 18 anos).\n",
        "        1. Adultos: Taxa de sobrevivência de 36.12% (0.3612)\n",
        "        2. Crianças: Taxa de sobrevivência de 53.98% (0.5398)\n",
        "\n",
        "\n",
        "\n"
      ],
      "metadata": {
        "id": "jGL72HHA9FIe"
      }
    },
    {
      "cell_type": "markdown",
      "source": [
        "5. Visualização de Dados"
      ],
      "metadata": {
        "id": "AX0gpudl9Uub"
      }
    },
    {
      "cell_type": "markdown",
      "source": [
        "5.1. Gráfico de Barras da Taxa de Sobrevivência por Sexo:\n"
      ],
      "metadata": {
        "id": "7lflHfoW9W4a"
      }
    },
    {
      "cell_type": "code",
      "source": [
        "survival_sex.plot(kind='bar', color=['skyblue', 'salmon'])\n",
        "plt.title('Taxa de Sobrevivência por Sexo')\n",
        "plt.xlabel('Sexo')\n",
        "plt.ylabel('Taxa de Sobrevivência')\n",
        "plt.ylim(0, 1)\n",
        "plt.show()\n"
      ],
      "metadata": {
        "id": "QBJ29ugI9UBr",
        "colab": {
          "base_uri": "https://localhost:8080/",
          "height": 506
        },
        "outputId": "ea5365ee-2ffd-4035-e4f7-1adcce31ae7a"
      },
      "execution_count": 16,
      "outputs": [
        {
          "output_type": "display_data",
          "data": {
            "text/plain": [
              "<Figure size 640x480 with 1 Axes>"
            ],
            "image/png": "[encoded data removed]"
          },
          "metadata": {}
        }
      ]
    },
    {
      "cell_type": "markdown",
      "source": [
        "5.2. Gráfico de Barras da Taxa de Sobrevivência por Classe"
      ],
      "metadata": {
        "id": "emfB1IjQ9cAw"
      }
    },
    {
      "cell_type": "code",
      "source": [
        "survival_class.plot(kind='bar', color='lightgreen')\n",
        "plt.title('Taxa de Sobrevivência por Classe')\n",
        "plt.xlabel('Classe')\n",
        "plt.ylabel('Taxa de Sobrevivência')\n",
        "plt.ylim(0, 1)\n",
        "plt.show()"
      ],
      "metadata": {
        "id": "CgyWKzIS9ec8",
        "colab": {
          "base_uri": "https://localhost:8080/",
          "height": 467
        },
        "outputId": "24384915-7cc3-4b45-b636-079530ff454a"
      },
      "execution_count": 17,
      "outputs": [
        {
          "output_type": "display_data",
          "data": {
            "text/plain": [
              "<Figure size 640x480 with 1 Axes>"
            ],
            "image/png": "[encoded data removed]"
          },
          "metadata": {}
        }
      ]
    },
    {
      "cell_type": "markdown",
      "source": [
        "5.3. Histograma da Distribuição de Idades:"
      ],
      "metadata": {
        "id": "NEKbCUiE9ghh"
      }
    },
    {
      "cell_type": "code",
      "source": [
        "df['Age'].hist(bins=30, color='purple', edgecolor='black')\n",
        "plt.title('Distribuição de Idades')\n",
        "plt.xlabel('Idade')\n",
        "plt.ylabel('Frequência')\n",
        "plt.show()"
      ],
      "metadata": {
        "id": "qQxX1e2Q9k87",
        "colab": {
          "base_uri": "https://localhost:8080/",
          "height": 472
        },
        "outputId": "d8d1d05a-1658-453c-b9ec-de6e451bb34b"
      },
      "execution_count": 19,
      "outputs": [
        {
          "output_type": "display_data",
          "data": {
            "text/plain": [
              "<Figure size 640x480 with 1 Axes>"
            ],
            "image/png": "[encoded data removed]"
          },
          "metadata": {}
        }
      ]
    },
    {
      "cell_type": "markdown",
      "source": [
        "5.4. Gráfico de Dispersão entre Tarifa e Idade Colorido por Sobrevivência:"
      ],
      "metadata": {
        "id": "MEsfZ5Mj9mvi"
      }
    },
    {
      "cell_type": "code",
      "source": [
        "sns.scatterplot(data=df, x='Fare', y='Age', hue='Survived', palette='coolwarm')\n",
        "plt.title('Tarifa vs. Idade por Sobrevivência')\n",
        "plt.xlabel('Tarifa (Fare)')\n",
        "plt.ylabel('Idade')\n",
        "plt.show()\n"
      ],
      "metadata": {
        "id": "KuPiLEW69p9L",
        "colab": {
          "base_uri": "https://localhost:8080/",
          "height": 472
        },
        "outputId": "ab12ce0e-1ab3-49ae-965a-6c767ee0178a"
      },
      "execution_count": 18,
      "outputs": [
        {
          "output_type": "display_data",
          "data": {
            "text/plain": [
              "<Figure size 640x480 with 1 Axes>"
            ],
            "image/png": "[encoded data removed]"
          },
          "metadata": {}
        }
      ]
    },
    {
      "cell_type": "markdown",
      "source": [
        "Perguntas:\n",
        "\n",
        "\n",
        "\n",
        "*   O que os gráficos revelam sobre a relação entre sexo, classe e sobrevivência?\n",
        "      *  Gráfico de barras da Taxa de Sobrevivência por Sexo:\n",
        "          * O gráfico de barras mostra claramente que a taxa de sobrevivência das mulheres foi significativamente mais alta do que a dos homens. Este dado reforça a hipótese de que mulheres, crianças e outros grupos vulneráveis tiveram prioridade durante o resgate.\n",
        "\n",
        "      * Gráfico de barras da Taxa de Sobrevivência por Classe:\n",
        "          * O gráfico de barras sobre a taxa de sobrevivência por classe (Pclass) mostra uma grande diferença entre as classes, a taxa de sobrevivência decresce à medida que a classe do passageiro diminui.\n",
        "\n",
        "\n",
        "*   Há alguma tendência visível na relação entre tarifa e idade em relação à sobrevivência?\n",
        "\n",
        "      * Sim, com o Gráfico de dispersão entre tarifa e idade, colorido por sobrevivência conseguimos identificar algumas tendências interessantes:\n",
        "          * Sobreviventes (marcados com cores quentes) tendem a ter uma maior tarifa em comparação aos não sobreviventes (marcados com cores mais frias). Isso sugere que passageiros que pagaram tarifas mais altas (possivelmente associados à 1ª classe) tinham uma maior probabilidade de sobreviver.\n",
        "          * Idade: Não há uma tendência clara de que a idade tenha uma relação forte com a sobrevivência diretamente no gráfico de dispersão. No entanto, você pode notar que muitas das crianças (mais jovens) sobreviveram, enquanto uma quantidade considerável de adultos não sobreviveu, o que é consistente com a análise anterior.\n",
        "\n",
        "    \n",
        "\n",
        "\n"
      ],
      "metadata": {
        "id": "W8kIs3z79rtt"
      }
    },
    {
      "cell_type": "markdown",
      "source": [
        "Desafio Extra (Opcional): Analisar a Relação entre 'SibSp' e Sobrevivência\n",
        "\n",
        "\n",
        "*   Analisar a Relação entre Número de Irmãos/Cônjuges a Bordo ('SibSp') e Sobrevivência:"
      ],
      "metadata": {
        "id": "LkL9sS9q-AkK"
      }
    },
    {
      "cell_type": "code",
      "source": [
        "# Calcular a taxa de sobrevivência por número de irmãos/cônjuges a bordo\n",
        "survival_sibsp = df.groupby('SibSp')['Survived'].mean()\n",
        "print(survival_sibsp)\n"
      ],
      "metadata": {
        "colab": {
          "base_uri": "https://localhost:8080/"
        },
        "id": "Y5B0Xf4WIfKy",
        "outputId": "aa3f06ca-cbc9-4b48-f810-12ce3a6e8e08"
      },
      "execution_count": 20,
      "outputs": [
        {
          "output_type": "stream",
          "name": "stdout",
          "text": [
            "SibSp\n",
            "0    0.345395\n",
            "1    0.535885\n",
            "2    0.464286\n",
            "3    0.250000\n",
            "4    0.166667\n",
            "5    0.000000\n",
            "8    0.000000\n",
            "Name: Survived, dtype: float64\n"
          ]
        }
      ]
    },
    {
      "cell_type": "code",
      "source": [
        "# Visualização da taxa de sobrevivência por número de irmãos/cônjuges a bordo\n",
        "survival_sibsp.plot(kind='bar', color='lightcoral')\n",
        "plt.title('Taxa de Sobrevivência por Número de Irmãos/Cônjuges a Bordo')\n",
        "plt.xlabel('Número de Irmãos/Cônjuges a Bordo (SibSp)')\n",
        "plt.ylabel('Taxa de Sobrevivência')\n",
        "plt.ylim(0, 1)\n",
        "plt.show()\n"
      ],
      "metadata": {
        "colab": {
          "base_uri": "https://localhost:8080/",
          "height": 468
        },
        "id": "AtirwujDIeQn",
        "outputId": "2dfee0f2-67e8-4edd-9e7d-ee8983a42b7a"
      },
      "execution_count": 21,
      "outputs": [
        {
          "output_type": "display_data",
          "data": {
            "text/plain": [
              "<Figure size 640x480 with 1 Axes>"
            ],
            "image/png": "[encoded data removed]"
          },
          "metadata": {}
        }
      ]
    },
    {
      "cell_type": "markdown",
      "source": [
        "* O gráfico mostra uma taxa de sobrevivência mais alta para os passageiros que tinham 1 ou 2 familiares a bordo e uma taxa de sobrevivência mais baixa para aqueles que não tinham familiares (SibSp = 0) ou aqueles com muitos familiares a bordo.\n",
        "\n",
        "* Interpretação:\n",
        "Passageiros com SibSp = 0 (sem familiares a bordo): Esses passageiros podem ter sido mais vulneráveis, pois estavam sozinhos e poderiam ter sido mais facilmente negligenciados durante o resgate. Isso pode explicar uma taxa de sobrevivência mais baixa para esses passageiros.\n",
        "\n",
        "* Passageiros com SibSp = 1 ou 2 (um ou dois familiares a bordo): Esses passageiros podem ter tido uma chance de sobrevivência maior, provavelmente devido a fatores como ajuda mútua entre familiares e mais atenção durante o processo de evacuação.\n",
        "\n",
        "* Passageiros com SibSp > 2: A taxa de sobrevivência pode ser mais baixa, pois, com mais familiares a bordo, pode ter sido mais difícil obter ajuda rápida, ou o resgate pode ter sido mais caótico para grupos maiores."
      ],
      "metadata": {
        "id": "ids5NM7KIxll"
      }
    }
  ]
}